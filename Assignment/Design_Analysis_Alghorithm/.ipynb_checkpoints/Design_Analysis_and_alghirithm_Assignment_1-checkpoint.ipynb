{
 "cells": [
  {
   "cell_type": "code",
   "execution_count": 75,
   "metadata": {},
   "outputs": [],
   "source": [
    "class Algo:\n",
    "    \n",
    "    \n",
    "    def Multiply(self,Value1,Value2):\n",
    "        if len(str(Value1)) % 2 ==0:\n",
    "            print(\"len is Even\")\n",
    "        else:\n",
    "            Value1=\"0\" + str(Value1)\n",
    "        if len(str(Value2)) % 2==0:\n",
    "               print(\"len is Even\")\n",
    "        else:\n",
    "            Value2=\"0\"+str(Value2) \n",
    "        \n",
    "        final_list=[]\n",
    "        x=0    #adding variable to make the pair\n",
    "        y=0    #adding varibale to make the pair from\n",
    "        store_value1=[]\n",
    "        for i in range(int(len(str(Value1))/2)):\n",
    "            store_value1.append(Value1[0+x:2+y])\n",
    "            x=x+2\n",
    "            y=y+2\n",
    "        \n",
    "\n",
    "        x_2=0\n",
    "        y_2=0\n",
    "        store_value2=[]\n",
    "        \n",
    "        for i in range(int(len(str(Value2))/2)):\n",
    "            store_value2.append(Value2[0+x_2:2+y_2])\n",
    "            x_2=x_2+2\n",
    "            y_2=y_2+2\n",
    "        \n",
    "        #now saved the parameter in the list in the form of pair\n",
    "        for i in range(len(store_value1)):\n",
    "            for j in range(len(store_value2)):\n",
    "                print(store_value1[i] ,\" * \" ,store_value2[j])\n",
    "                mul_result=int(store_value1[i]) * int(store_value2[j])\n",
    "                add_Zero=(2*len(store_value1[i+1:])) +    (2*len(store_value2[j+1:]))\n",
    "                print(\"Add_zero_lenght ; \",add_Zero)\n",
    "                In_list=(str(mul_result)+\"0\"*add_Zero)\n",
    "                final_list.append(int(In_list))\n",
    "                \n",
    "                \n",
    "        print(sum(final_list))\n",
    "                "
   ]
  },
  {
   "cell_type": "code",
   "execution_count": 76,
   "metadata": {},
   "outputs": [
    {
     "name": "stdout",
     "output_type": "stream",
     "text": [
      "len is Even\n",
      "type  :  <class 'int'>\n"
     ]
    },
    {
     "ename": "TypeError",
     "evalue": "'int' object is not subscriptable",
     "output_type": "error",
     "traceback": [
      "\u001b[0;31m---------------------------------------------------------------------------\u001b[0m",
      "\u001b[0;31mTypeError\u001b[0m                                 Traceback (most recent call last)",
      "\u001b[0;32m<ipython-input-76-581a5cdca45b>\u001b[0m in \u001b[0;36m<module>\u001b[0;34m()\u001b[0m\n\u001b[1;32m      1\u001b[0m \u001b[0mobject_of_algo\u001b[0m\u001b[0;34m=\u001b[0m\u001b[0mAlgo\u001b[0m\u001b[0;34m(\u001b[0m\u001b[0;34m)\u001b[0m\u001b[0;34m\u001b[0m\u001b[0;34m\u001b[0m\u001b[0m\n\u001b[0;32m----> 2\u001b[0;31m \u001b[0mobject_of_algo\u001b[0m\u001b[0;34m.\u001b[0m\u001b[0mMultiply\u001b[0m\u001b[0;34m(\u001b[0m\u001b[0;36m345098\u001b[0m\u001b[0;34m,\u001b[0m\u001b[0;36m12345\u001b[0m\u001b[0;34m)\u001b[0m\u001b[0;34m\u001b[0m\u001b[0;34m\u001b[0m\u001b[0m\n\u001b[0m",
      "\u001b[0;32m<ipython-input-75-51f38028c0fb>\u001b[0m in \u001b[0;36mMultiply\u001b[0;34m(self, Value1, Value2)\u001b[0m\n\u001b[1;32m     19\u001b[0m         \u001b[0mstore_value1\u001b[0m\u001b[0;34m=\u001b[0m\u001b[0;34m[\u001b[0m\u001b[0;34m]\u001b[0m\u001b[0;34m\u001b[0m\u001b[0;34m\u001b[0m\u001b[0m\n\u001b[1;32m     20\u001b[0m         \u001b[0;32mfor\u001b[0m \u001b[0mi\u001b[0m \u001b[0;32min\u001b[0m \u001b[0mrange\u001b[0m\u001b[0;34m(\u001b[0m\u001b[0mint\u001b[0m\u001b[0;34m(\u001b[0m\u001b[0mlen\u001b[0m\u001b[0;34m(\u001b[0m\u001b[0mstr\u001b[0m\u001b[0;34m(\u001b[0m\u001b[0mValue1\u001b[0m\u001b[0;34m)\u001b[0m\u001b[0;34m)\u001b[0m\u001b[0;34m/\u001b[0m\u001b[0;36m2\u001b[0m\u001b[0;34m)\u001b[0m\u001b[0;34m)\u001b[0m\u001b[0;34m:\u001b[0m\u001b[0;34m\u001b[0m\u001b[0;34m\u001b[0m\u001b[0m\n\u001b[0;32m---> 21\u001b[0;31m             \u001b[0mstore_value1\u001b[0m\u001b[0;34m.\u001b[0m\u001b[0mappend\u001b[0m\u001b[0;34m(\u001b[0m\u001b[0mValue1\u001b[0m\u001b[0;34m[\u001b[0m\u001b[0;36m0\u001b[0m\u001b[0;34m+\u001b[0m\u001b[0mx\u001b[0m\u001b[0;34m:\u001b[0m\u001b[0;36m2\u001b[0m\u001b[0;34m+\u001b[0m\u001b[0my\u001b[0m\u001b[0;34m]\u001b[0m\u001b[0;34m)\u001b[0m\u001b[0;34m\u001b[0m\u001b[0;34m\u001b[0m\u001b[0m\n\u001b[0m\u001b[1;32m     22\u001b[0m             \u001b[0mx\u001b[0m\u001b[0;34m=\u001b[0m\u001b[0mx\u001b[0m\u001b[0;34m+\u001b[0m\u001b[0;36m2\u001b[0m\u001b[0;34m\u001b[0m\u001b[0;34m\u001b[0m\u001b[0m\n\u001b[1;32m     23\u001b[0m             \u001b[0my\u001b[0m\u001b[0;34m=\u001b[0m\u001b[0my\u001b[0m\u001b[0;34m+\u001b[0m\u001b[0;36m2\u001b[0m\u001b[0;34m\u001b[0m\u001b[0;34m\u001b[0m\u001b[0m\n",
      "\u001b[0;31mTypeError\u001b[0m: 'int' object is not subscriptable"
     ]
    }
   ],
   "source": [
    "object_of_algo=Algo()\n",
    "object_of_algo.Multiply(345098,12345)"
   ]
  },
  {
   "cell_type": "code",
   "execution_count": 5,
   "metadata": {},
   "outputs": [],
   "source": [
    "class Algo:\n",
    "    \n",
    "    \n",
    "    def Multiply(self,Value1,Value2):\n",
    "        \n",
    "        if  not len(str(Value1)) % 2 ==0:\n",
    "            Value1=str(\"0\" + str(Value1))\n",
    "        if not len(str(Value2)) % 2==0:\n",
    "            Value2=str(\"0\"+str(Value2)) \n",
    "        \n",
    "        \n",
    "        \n",
    "        final_list=[]\n",
    "        x=0    #adding variable to make the pair\n",
    "        y=0    #adding varibale to make the pair from\n",
    "        store_value1=[]\n",
    "        for i in range(int(len(str(Value1))/2)):\n",
    "            store_value1.append(Value1[0+x:2+y])\n",
    "            x=x+2\n",
    "            y=y+2\n",
    "        \n",
    "\n",
    "        x_2=0\n",
    "        y_2=0\n",
    "        store_value2=[]\n",
    "        \n",
    "        for i in range(int(len(str(Value2))/2)):\n",
    "            store_value2.append(Value2[0+x_2:2+y_2])\n",
    "            x_2=x_2+2\n",
    "            y_2=y_2+2\n",
    "        \n",
    "        #now saved the parameter in the list in the form of pair\n",
    "        for i in range(len(store_value1)):\n",
    "            for j in range(len(store_value2)):\n",
    "                mul_result=int(store_value1[i]) * int(store_value2[j])\n",
    "                add_Zero=(2*len(store_value1[i+1:])) +    (2*len(store_value2[j+1:]))\n",
    "                In_list=(str(mul_result)+\"0\"*add_Zero)\n",
    "                final_list.append(int(In_list))\n",
    "                \n",
    "                \n",
    "        return (sum(final_list))\n",
    "                "
   ]
  },
  {
   "cell_type": "code",
   "execution_count": 8,
   "metadata": {},
   "outputs": [
    {
     "name": "stdout",
     "output_type": "stream",
     "text": [
      "Enter the Number : 12345678\n",
      "Enter the Number : 12345678\n"
     ]
    },
    {
     "data": {
      "text/plain": [
       "152415765279684"
      ]
     },
     "execution_count": 8,
     "metadata": {},
     "output_type": "execute_result"
    }
   ],
   "source": [
    "object_of_algo=Algo()\n",
    "Value1=str(input(\"Enter the Number : \"))\n",
    "Value2=str(input(\"Enter the Number : \"))\n",
    "object_of_algo.Multiply(Value1,Value2)"
   ]
  },
  {
   "cell_type": "code",
   "execution_count": 7,
   "metadata": {},
   "outputs": [
    {
     "name": "stdout",
     "output_type": "stream",
     "text": [
      "152415765279684\n"
     ]
    }
   ],
   "source": [
    "print(12345678*12345678)"
   ]
  },
  {
   "cell_type": "code",
   "execution_count": null,
   "metadata": {},
   "outputs": [],
   "source": []
  }
 ],
 "metadata": {
  "kernelspec": {
   "display_name": "Python 3",
   "language": "python",
   "name": "python3"
  },
  "language_info": {
   "codemirror_mode": {
    "name": "ipython",
    "version": 3
   },
   "file_extension": ".py",
   "mimetype": "text/x-python",
   "name": "python",
   "nbconvert_exporter": "python",
   "pygments_lexer": "ipython3",
   "version": "3.6.9"
  }
 },
 "nbformat": 4,
 "nbformat_minor": 2
}
