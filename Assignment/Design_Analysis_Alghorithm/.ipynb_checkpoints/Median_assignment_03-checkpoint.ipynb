{
 "cells": [
  {
   "cell_type": "code",
   "execution_count": 1,
   "metadata": {},
   "outputs": [],
   "source": [
    "def Median(list1,list2):\n",
    "    \n",
    "    update_list=sorted(list1+list2)\n",
    "    \n",
    "    print(sorted(update_list))\n",
    "    \n",
    "    if len(update_list)%2!=0:\n",
    "        index=(len(update_list))//2 #because index start from Zero we dont need to add the \"1\"\n",
    "        return update_list[index]\n",
    "    else:\n",
    "        index01=int(len(update_list)/2)-1 #beause the list start form zero \"O\"\n",
    "        index02=int((len(update_list)/2))\n",
    "        return update_list[index01] , update_list[index02]\n",
    "        \n",
    "    \n",
    "    "
   ]
  },
  {
   "cell_type": "code",
   "execution_count": 2,
   "metadata": {},
   "outputs": [
    {
     "name": "stdout",
     "output_type": "stream",
     "text": [
      "[2, 60, 69, 70, 74, 80, 85, 85, 86, 86, 87, 96, 99, 100]\n"
     ]
    },
    {
     "data": {
      "text/plain": [
       "(85, 85)"
      ]
     },
     "execution_count": 2,
     "metadata": {},
     "output_type": "execute_result"
    }
   ],
   "source": [
    "list1=[80,85,86,87,100]\n",
    "list2=[2,60,69,70,86,85,96,74,99]\n",
    "Median(list1,list2)"
   ]
  },
  {
   "cell_type": "code",
   "execution_count": 3,
   "metadata": {},
   "outputs": [
    {
     "data": {
      "text/plain": [
       "80"
      ]
     },
     "execution_count": 3,
     "metadata": {},
     "output_type": "execute_result"
    }
   ],
   "source": [
    "import statistics\n",
    "items=[2, 60, 69, 70, 80, 85,\n",
    "       \n",
    "       86, 87, 100]\n",
    "statistics.median(items)"
   ]
  },
  {
   "cell_type": "code",
   "execution_count": 4,
   "metadata": {},
   "outputs": [],
   "source": [
    "def median(lst):\n",
    "    sortedLst = sorted(lst)\n",
    "    lstLen = len(lst)\n",
    "    index = (lstLen - 1) // 2\n",
    "    print(index)\n",
    "\n",
    "    if (lstLen % 2):\n",
    "        return sortedLst[index]\n",
    "    else:\n",
    "        return (sortedLst[index] + sortedLst[index + 1])/2.0"
   ]
  },
  {
   "cell_type": "code",
   "execution_count": 5,
   "metadata": {},
   "outputs": [
    {
     "name": "stdout",
     "output_type": "stream",
     "text": [
      "6\n"
     ]
    },
    {
     "data": {
      "text/plain": [
       "85"
      ]
     },
     "execution_count": 5,
     "metadata": {},
     "output_type": "execute_result"
    }
   ],
   "source": [
    "lst=items=[2, 60, 69, 70, 74, 80, 85, 85, 86, 86, 87, 96, 100]\n",
    "\n",
    "median(lst)"
   ]
  },
  {
   "cell_type": "code",
   "execution_count": 6,
   "metadata": {},
   "outputs": [
    {
     "name": "stdout",
     "output_type": "stream",
     "text": [
      "82.5\n"
     ]
    }
   ],
   "source": [
    "print((85+80)/2)"
   ]
  },
  {
   "cell_type": "code",
   "execution_count": 7,
   "metadata": {},
   "outputs": [],
   "source": [
    "def Median(list1,list2):\n",
    "    \n",
    "    update_list=sorted(list1+list2)\n",
    "    \n",
    "    print(sorted(update_list))\n",
    "    \n",
    "    if len(update_list)%2!=0:\n",
    "        index=(len(update_list))//2 #because index start from Zero we dont need to add the \"1\"\n",
    "        return update_list[index]\n",
    "    else:\n",
    "        return int(len(update_list)//2)-1, int((len(update_list)/2))\n",
    "        \n",
    "    \n",
    "    "
   ]
  },
  {
   "cell_type": "code",
   "execution_count": 8,
   "metadata": {},
   "outputs": [
    {
     "name": "stdout",
     "output_type": "stream",
     "text": [
      "[2, 60, 69, 70, 74, 80, 85, 85, 86, 86, 87, 96, 99, 100]\n"
     ]
    },
    {
     "data": {
      "text/plain": [
       "(6, 7)"
      ]
     },
     "execution_count": 8,
     "metadata": {},
     "output_type": "execute_result"
    }
   ],
   "source": [
    "list1=[80,85,86,87,100]\n",
    "list2=[2,60,69,70,86,85,96,74,99]\n",
    "Median(list1,list2)"
   ]
  },
  {
   "cell_type": "code",
   "execution_count": null,
   "metadata": {},
   "outputs": [],
   "source": []
  }
 ],
 "metadata": {
  "kernelspec": {
   "display_name": "Python 3",
   "language": "python",
   "name": "python3"
  },
  "language_info": {
   "codemirror_mode": {
    "name": "ipython",
    "version": 3
   },
   "file_extension": ".py",
   "mimetype": "text/x-python",
   "name": "python",
   "nbconvert_exporter": "python",
   "pygments_lexer": "ipython3",
   "version": "3.6.9"
  }
 },
 "nbformat": 4,
 "nbformat_minor": 2
}
